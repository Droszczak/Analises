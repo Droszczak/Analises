{
 "cells": [
  {
   "cell_type": "markdown",
   "metadata": {
    "application/vnd.databricks.v1+cell": {
     "cellMetadata": {},
     "inputWidgets": {},
     "nuid": "9e3bf053-517a-4972-8e4e-2e28e1c0b023",
     "showTitle": false,
     "tableResultSettingsMap": {},
     "title": ""
    }
   },
   "source": [
    "##🔹Gráfico de Pareto Usando o Dashboard IA/BI da Databricks🔹\n",
    "\n",
    "Você já ouviu falar da Lei de Pareto? 🤔 Também conhecida como a regra 80/20, ela afirma que **80% dos resultados vêm de 20% das causas**. Isso é um divisor de águas no mundo dos negócios, ajudando a identificar onde está o maior impacto e permitindo focar esforços no que realmente importa.\n",
    "\n",
    "<img src=\"Pareto Regra.png\" alt=\"Descrição da imagem\" width=\"300\">\n",
    "\n",
    "**💡 No meu caso:** Utilizei o **Databricks** para criar um **gráfico de Pareto**, analisando as vendas por empresa e descobrindo quais delas compõem os 80% do volume de vendas. Vou te mostrar agora o passo a passo dessa construção e as técnicas aplicadas, com destaque para o uso de **Window Functions**. 🚀\n",
    "\n",
    "---\n",
    "### **Passo a Passo da Query 🔍**\n",
    "#### **1️⃣ Agregação das Vendas Totais**\n",
    "Primeiro, agrupei as vendas totais de cada loja em um CTE chamado `TotalVendas`:\n",
    "```\n",
    "WITH TotalVendas AS (\n",
    "    SELECT\n",
    "        empresa,\n",
    "        SUM(valor_vendas) AS total_vendas\n",
    "    FROM workshop.gold.notas\n",
    "    WHERE DATE(dt_referencia) BETWEEN '{{dt_referencia.start}}' AND '{{dt_referencia.end}}'\n",
    "    GROUP BY empresa\n",
    "),\n",
    "```\n",
    "#### **🔎 O que fiz aqui:**\n",
    "\n",
    "* **Agrupei os dados:** Totalizei as vendas por empresa no intervalo de datas fornecido.\n",
    "* Esse é o **primeiro passo** para identificar quais empresas mais contribuem para o volume total.\n",
    "---"
   ]
  },
  {
   "cell_type": "markdown",
   "metadata": {
    "application/vnd.databricks.v1+cell": {
     "cellMetadata": {},
     "inputWidgets": {},
     "nuid": "f7cdbfc5-3a05-408a-8257-7b29316c33fc",
     "showTitle": false,
     "tableResultSettingsMap": {},
     "title": ""
    }
   },
   "source": [
    "#### **2️⃣ Ordenação e Ranking das Lojas**\n",
    "Em seguida, apliquei o CTE `RankedVendas` para ordenar as empresas e calcular valores percentuais e acumulados:\n",
    "```\n",
    "RankedVendas AS (\n",
    "    SELECT\n",
    "        empresa,\n",
    "        total_vendas,\n",
    "        RANK() OVER (ORDER BY total_vendas DESC) AS rank,\n",
    "        total_vendas / SUM(total_vendas) OVER () AS pct_total,\n",
    "        SUM(total_vendas) OVER (ORDER BY total_vendas DESC) AS vendas_acumuladas\n",
    "    FROM TotalVendas\n",
    "),\n",
    "```\n",
    "#### **🔎 Técnicas utilizadas:**\n",
    "\n",
    "* **RANK():** Classifiquei as empresas pelo volume total de vendas.\n",
    "* **% de Contribuição (pct_total):** Identifiquei a participação percentual de cada empresa.\n",
    "* **Vendas Acumuladas:** Somei os valores de forma acumulativa.\n",
    "---"
   ]
  },
  {
   "cell_type": "markdown",
   "metadata": {
    "application/vnd.databricks.v1+cell": {
     "cellMetadata": {},
     "inputWidgets": {},
     "nuid": "0906034f-a349-499d-b1ec-e82047770373",
     "showTitle": false,
     "tableResultSettingsMap": {},
     "title": ""
    }
   },
   "source": [
    "#### **3️⃣ Cálculo da Porcentagem Acumulada**\n",
    "No CTE `PctAcumulado`, calculei a porcentagem acumulada das vendas:\n",
    "```\n",
    "PctAcumulado AS (\n",
    "    SELECT\n",
    "        *,\n",
    "        vendas_acumuladas / SUM(total_vendas) OVER () AS pct_acumulado\n",
    "    FROM RankedVendas\n",
    ")\n",
    "```\n",
    "#### **🔎 Aqui, respondi:**\n",
    "\n",
    "- **Quem compõe os 80%?** A porcentagem acumulada identifica as empresas que mais impactam o volume total.\n",
    "---"
   ]
  },
  {
   "cell_type": "markdown",
   "metadata": {
    "application/vnd.databricks.v1+cell": {
     "cellMetadata": {},
     "inputWidgets": {},
     "nuid": "292cc64a-6420-478d-b401-40c71a7f6db1",
     "showTitle": false,
     "tableResultSettingsMap": {},
     "title": ""
    }
   },
   "source": [
    "#### **4️⃣ Seleção Final e Filtro de Pareto**\n",
    "Por fim, filtrei as empresas que compõem os **80% iniciais** das vendas:\n",
    "```\n",
    "SELECT\n",
    "    empresa,\n",
    "    ROUND(total_vendas, 0) AS total_vendas,\n",
    "    ROUND(pct_acumulado * 100, 2) AS pct_acumulado\n",
    "FROM PctAcumulado\n",
    "WHERE IF(pct_acumulado <= 0.8, 'S', 'N') IN ({{flag_pareto}})\n",
    "ORDER BY pct_acumulado\n",
    "LIMIT {{top}}\n",
    "```\n",
    "#### **🔎 Finalizando:**\n",
    "\n",
    "* **Filtro Pareto:** Seleciona apenas as empresas dentro dos 80% do total acumulado.\n",
    "* **Exibição:** Limitei os resultados para mostrar apenas as lojas relevantes.\n",
    "---"
   ]
  },
  {
   "cell_type": "markdown",
   "metadata": {
    "application/vnd.databricks.v1+cell": {
     "cellMetadata": {},
     "inputWidgets": {},
     "nuid": "5fd0b4d9-bed7-40b9-bdbc-ed18aee3e734",
     "showTitle": false,
     "tableResultSettingsMap": {},
     "title": ""
    }
   },
   "source": [
    "#### **Resultado Final 🎯**\n",
    "* **1️⃣ Query Resultante:**\n",
    "Aqui está a query completa que consolidou todas as etapas.\n",
    "```\n",
    "WITH TotalVendas AS (\n",
    "    SELECT\n",
    "        empresa,\n",
    "        SUM(valor_vendas) AS total_vendas\n",
    "    FROM workshop.gold.notas\n",
    "    WHERE DATE(dt_referencia) BETWEEN '{{dt_referencia.start}}' AND '{{dt_referencia.end}}'\n",
    "    GROUP BY empresa\n",
    "),\n",
    "\n",
    "RankedVendas AS (\n",
    "    SELECT\n",
    "        empresa,\n",
    "        total_vendas,\n",
    "        RANK() OVER (ORDER BY total_vendas DESC) AS rank,\n",
    "        total_vendas / SUM(total_vendas) OVER () AS pct_total,\n",
    "        SUM(total_vendas) OVER (ORDER BY total_vendas DESC) AS vendas_acumuladas\n",
    "    FROM TotalVendas\n",
    "),\n",
    "\n",
    "PctAcumulado AS (\n",
    "    SELECT\n",
    "        *,\n",
    "        vendas_acumuladas / SUM(total_vendas) OVER () AS pct_acumulado\n",
    "    FROM RankedVendas\n",
    ")\n",
    "\n",
    "SELECT\n",
    "    empresa,\n",
    "    ROUND(total_vendas, 0) AS total_vendas,\n",
    "    ROUND(pct_acumulado * 100, 2) AS pct_acumulado\n",
    "FROM PctAcumulado\n",
    "WHERE IF(pct_acumulado <= 0.8, 'S', 'N') IN ({{flag_pareto}})\n",
    "ORDER BY pct_acumulado\n",
    "LIMIT {{top}}\n",
    "```\n",
    "\n",
    "* **2️⃣ Gráfico Interativo:**\n",
    "O gráfico criado no **Databricks** permite a visualização interativa dos resultados, com filtros ajustáveis por parâmetros. 🖥️📊\n",
    "\n",
    "**Resultado das Querys:**\n",
    "\n",
    "<img src=\"Pareto Resultado.png\" alt=\"Descrição da imagem\" width=\"1000\">\n",
    "\n",
    "**Aplicação em um dashboard exemplo:**\n",
    "\n",
    "<img src=\"Exemplo aplicação pareto.png\" alt=\"Descrição da imagem\" width=\"1000\">\n",
    "\n",
    "* **3️⃣ Demonstração em Vídeo:**\n",
    "Confira o vídeo explorando o gráfico e extraindo **insights valiosos** dos dados.\n",
    "👉 [Assista agora!](https://drive.google.com/file/d/1qAPaVoK7i7NGY1UPA7cdtuhNZd_aJK_G/view?usp=drive_link)\n",
    "\n",
    "---"
   ]
  },
  {
   "cell_type": "markdown",
   "metadata": {
    "application/vnd.databricks.v1+cell": {
     "cellMetadata": {},
     "inputWidgets": {},
     "nuid": "031fa1b6-cf33-4489-8950-3d369bd58947",
     "showTitle": false,
     "tableResultSettingsMap": {},
     "title": ""
    }
   },
   "source": [
    "#### **Conclusão 💡**\n",
    "Este gráfico de Pareto no **Databricks** é uma poderosa ferramenta para identificar **onde concentrar esforços** e entender quais clientes ou empresas fazem a diferença no resultado.\n",
    "\n",
    "**📌Recursos e Técnicas Utilizados:**\n",
    "\n",
    "- **Conceito da Lei de Pareto (Regra 80/20):** Para priorizar os itens de maior impacto.\n",
    "- **Funções SQL Aplicadas:**\n",
    "    - **Window Functions:** Para calcular rankings, porcentagens e valores acumulados.\n",
    "    - **RANK() e OVER():** Para criar rankings e acumular vendas em ordem decrescente.\n",
    "    - **WITH():** Para organizar a query em etapas claras e reutilizáveis.\n",
    "    - **Parâmetros Dinâmicos ({{parametro_filtro}}):** Para flexibilidade nos filtros e configurações do dashboard.\n",
    "\n",
    "Espero que este conteúdo seja útil e inspire suas próximas análises!😉"
   ]
  }
 ],
 "metadata": {
  "application/vnd.databricks.v1+notebook": {
   "dashboards": [],
   "environmentMetadata": {
    "base_environment": "",
    "client": "1"
   },
   "language": "python",
   "notebookMetadata": {
    "pythonIndentUnit": 2
   },
   "notebookName": "Análise Pareto Principais Vendas Totais por Loja",
   "widgets": {}
  },
  "language_info": {
   "name": "python"
  }
 },
 "nbformat": 4,
 "nbformat_minor": 0
}
